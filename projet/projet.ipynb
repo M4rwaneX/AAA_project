{
  "nbformat": 4,
  "nbformat_minor": 0,
  "metadata": {
    "colab": {
      "provenance": [],
      "authorship_tag": "ABX9TyP2+JK3wFkCPOsDqOok3Fuk",
      "include_colab_link": true
    },
    "kernelspec": {
      "name": "python3",
      "display_name": "Python 3"
    },
    "language_info": {
      "name": "python"
    }
  },
  "cells": [
    {
      "cell_type": "markdown",
      "metadata": {
        "id": "view-in-github",
        "colab_type": "text"
      },
      "source": [
        "<a href=\"https://colab.research.google.com/github/M4rwaneX/AAA_project/blob/main/projet/projet.ipynb\" target=\"_parent\"><img src=\"https://colab.research.google.com/assets/colab-badge.svg\" alt=\"Open In Colab\"/></a>"
      ]
    },
    {
      "cell_type": "code",
      "execution_count": 14,
      "metadata": {
        "id": "y2y5Q0i5FmRJ"
      },
      "outputs": [],
      "source": [
        "import pandas as pd\n",
        "import matplotlib.pyplot as plt\n",
        "import sklearn as skl"
      ]
    },
    {
      "cell_type": "code",
      "source": [
        "url = \"https://raw.githubusercontent.com/M4rwaneX/AAA_project/main/dataset/games.csv\"\n",
        "dataset = pd.read_csv(url)"
      ],
      "metadata": {
        "id": "RHWZEa10WKPz"
      },
      "execution_count": 13,
      "outputs": []
    },
    {
      "cell_type": "code",
      "source": [
        "print(list(dataset.columns))\n",
        "print(dataset.describe())\n",
        "print(dataset.info())"
      ],
      "metadata": {
        "colab": {
          "base_uri": "https://localhost:8080/"
        },
        "id": "_yVDrveHRF52",
        "outputId": "69182268-fc81-4c5f-837a-561a8d36a9c2"
      },
      "execution_count": 11,
      "outputs": [
        {
          "output_type": "stream",
          "name": "stdout",
          "text": [
            "['id', 'rated', 'created_at', 'last_move_at', 'turns', 'victory_status', 'winner', 'increment_code', 'white_id', 'white_rating', 'black_id', 'black_rating', 'moves', 'opening_eco', 'opening_name', 'opening_ply']\n",
            "         created_at  last_move_at         turns  white_rating  black_rating  \\\n",
            "count  2.005800e+04  2.005800e+04  20058.000000  20058.000000  20058.000000   \n",
            "mean   1.483617e+12  1.483618e+12     60.465999   1596.631868   1588.831987   \n",
            "std    2.850151e+10  2.850140e+10     33.570585    291.253376    291.036126   \n",
            "min    1.376772e+12  1.376772e+12      1.000000    784.000000    789.000000   \n",
            "25%    1.477548e+12  1.477548e+12     37.000000   1398.000000   1391.000000   \n",
            "50%    1.496010e+12  1.496010e+12     55.000000   1567.000000   1562.000000   \n",
            "75%    1.503170e+12  1.503170e+12     79.000000   1793.000000   1784.000000   \n",
            "max    1.504493e+12  1.504494e+12    349.000000   2700.000000   2723.000000   \n",
            "\n",
            "        opening_ply  \n",
            "count  20058.000000  \n",
            "mean       4.816981  \n",
            "std        2.797152  \n",
            "min        1.000000  \n",
            "25%        3.000000  \n",
            "50%        4.000000  \n",
            "75%        6.000000  \n",
            "max       28.000000  \n",
            "<class 'pandas.core.frame.DataFrame'>\n",
            "RangeIndex: 20058 entries, 0 to 20057\n",
            "Data columns (total 16 columns):\n",
            " #   Column          Non-Null Count  Dtype  \n",
            "---  ------          --------------  -----  \n",
            " 0   id              20058 non-null  object \n",
            " 1   rated           20058 non-null  bool   \n",
            " 2   created_at      20058 non-null  float64\n",
            " 3   last_move_at    20058 non-null  float64\n",
            " 4   turns           20058 non-null  int64  \n",
            " 5   victory_status  20058 non-null  object \n",
            " 6   winner          20058 non-null  object \n",
            " 7   increment_code  20058 non-null  object \n",
            " 8   white_id        20058 non-null  object \n",
            " 9   white_rating    20058 non-null  int64  \n",
            " 10  black_id        20058 non-null  object \n",
            " 11  black_rating    20058 non-null  int64  \n",
            " 12  moves           20058 non-null  object \n",
            " 13  opening_eco     20058 non-null  object \n",
            " 14  opening_name    20058 non-null  object \n",
            " 15  opening_ply     20058 non-null  int64  \n",
            "dtypes: bool(1), float64(2), int64(4), object(9)\n",
            "memory usage: 2.3+ MB\n",
            "None\n"
          ]
        }
      ]
    },
    {
      "cell_type": "code",
      "source": [
        "split = skl.model_selection.StratifiedShuffleSplit(n_splits=1,test_size=0.2,random_state=42)\n",
        "for train_index,test_index in split.split(dataset,dataset[\"winner\"]):\n",
        "  strat_train_set = dataset.loc[train_index]\n",
        "  strat_test_set = dataset.loc[test_index]\n",
        "\n",
        "print(strat_test_set[\"winner\"].value_counts()/len(strat_test_set))"
      ],
      "metadata": {
        "colab": {
          "base_uri": "https://localhost:8080/"
        },
        "id": "k9F2Ou2rSIuI",
        "outputId": "87ef1920-f5b0-40bc-bb50-f1b948927a0f"
      },
      "execution_count": 23,
      "outputs": [
        {
          "output_type": "stream",
          "name": "stdout",
          "text": [
            "winner\n",
            "white    0.498504\n",
            "black    0.454138\n",
            "draw     0.047358\n",
            "Name: count, dtype: float64\n"
          ]
        }
      ]
    }
  ]
}